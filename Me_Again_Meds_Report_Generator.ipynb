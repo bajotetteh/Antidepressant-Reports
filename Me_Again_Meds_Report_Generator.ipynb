{
 "cells": [
  {
   "cell_type": "code",
   "execution_count": 1,
   "id": "94b6dafc",
   "metadata": {
    "scrolled": true
   },
   "outputs": [],
   "source": [
    "import pandas as pd\n",
    "import numpy as np"
   ]
  },
  {
   "cell_type": "code",
   "execution_count": 2,
   "id": "e766e9f4",
   "metadata": {},
   "outputs": [],
   "source": [
    "import requests"
   ]
  },
  {
   "cell_type": "code",
   "execution_count": 3,
   "id": "491ab321",
   "metadata": {},
   "outputs": [],
   "source": [
    "import pdfkit"
   ]
  },
  {
   "cell_type": "code",
   "execution_count": 4,
   "id": "13508ef8",
   "metadata": {},
   "outputs": [],
   "source": [
    "# Import data\n",
    "\n",
    "output_relevant_history = pd.read_csv(\"C:/Users/Bajo/OneDrive/Desktop/GMU GRA Project/Antidepressants_database/output_Relevant_History.csv\")\n",
    "subgroups_and_optimal_antidepressants = pd.read_csv(\"C:/Users/Bajo/OneDrive/Desktop/GMU GRA Project/Antidepressants_database/Subgroups_and_Optimal_Antidepressants.csv\")"
   ]
  },
  {
   "cell_type": "code",
   "execution_count": 5,
   "id": "1a16c5d0",
   "metadata": {
    "scrolled": true
   },
   "outputs": [],
   "source": [
    "# Join the tables\n",
    "\n",
    "strata_join = pd.merge(output_relevant_history, subgroups_and_optimal_antidepressants, how='left', left_on='strata_sort', right_on='strata_sort')"
   ]
  },
  {
   "cell_type": "code",
   "execution_count": 6,
   "id": "f4c7c36f",
   "metadata": {
    "scrolled": true
   },
   "outputs": [],
   "source": [
    "# Identify relevant columns\n",
    "\n",
    "strata_join = strata_join[['strata_id', 'antidep', 'a+b', 'prob', 'Age', 'Gender', 'strata_sort_1', 'strata_sort_2', 'strata_sort_3', 'strata_sort_4', 'strata_sort_5', 'strata_sort_6', 'strata_sort_7', 'strata_sort_8', 'strata_sort_9']]"
   ]
  },
  {
   "cell_type": "code",
   "execution_count": 7,
   "id": "b5258246",
   "metadata": {},
   "outputs": [],
   "source": [
    "# Add a flag for when there are not enough matched cases\n",
    "\n",
    "strata_join['a+b_is_-1_flag'] = strata_join['a+b'].apply(lambda x: 1 if x == '-1' else 0)"
   ]
  },
  {
   "cell_type": "code",
   "execution_count": 8,
   "id": "c0f94d39",
   "metadata": {},
   "outputs": [],
   "source": [
    "# Add a flag for when the only information provided is the gender and age\n",
    "\n",
    "only_gender_id_list = [12377, 13679, 13772, 3817, 18388, 7200, 17162, 16458, 7704, 211]\n",
    "strata_join['only_gender_id_flag'] = strata_join['strata_id'].isin(only_gender_id_list).astype(int)"
   ]
  },
  {
   "cell_type": "code",
   "execution_count": 9,
   "id": "de0c5ba4",
   "metadata": {
    "scrolled": true
   },
   "outputs": [],
   "source": [
    "# Add a flag for when the remission rate is less than 10%\n",
    "\n",
    "strata_join['less_than_10_percent_prob_flag'] = (strata_join['prob'] < 0.1).astype(int)"
   ]
  },
  {
   "cell_type": "code",
   "execution_count": 10,
   "id": "b96438e9",
   "metadata": {},
   "outputs": [],
   "source": [
    "# Columns to capitalize\n",
    "\n",
    "columns_to_capitalize = ['antidep', 'strata_sort_1', 'strata_sort_2', 'strata_sort_3',\n",
    "                     'strata_sort_4', 'strata_sort_5', 'strata_sort_6', 'strata_sort_7',\n",
    "                     'strata_sort_8', 'strata_sort_9']"
   ]
  },
  {
   "cell_type": "code",
   "execution_count": 11,
   "id": "5e2dce04",
   "metadata": {},
   "outputs": [],
   "source": [
    "# Capitalize each word in a string\n",
    "\n",
    "def capitalize_each_word(value):\n",
    "    if isinstance(value, str):\n",
    "        # Splitting the string into words, capitalizing each, and joining back together\n",
    "        return ' '.join(word.capitalize() for word in value.split())\n",
    "    return value\n",
    "\n",
    "# Apply the function to each specified column\n",
    "for column in columns_to_capitalize:\n",
    "    strata_join[column] = strata_join[column].apply(capitalize_each_word)"
   ]
  },
  {
   "cell_type": "code",
   "execution_count": 12,
   "id": "8c78842f",
   "metadata": {},
   "outputs": [],
   "source": [
    "# Clean strata_sort columns\n",
    "\n",
    "# List of columns to remove parentheses and their contents\n",
    "columns_to_modify = ['strata_sort_1', 'strata_sort_2', 'strata_sort_3',\n",
    "                     'strata_sort_4', 'strata_sort_5', 'strata_sort_6', \n",
    "                     'strata_sort_7', 'strata_sort_8', 'strata_sort_9']\n",
    "\n",
    "for column in columns_to_modify:\n",
    "    # Explicitly convert column to string to ensure .str accessor works correctly.\n",
    "    # This conversion will turn NaN/None values into the string 'nan', which we can handle in the regex if necessary\n",
    "    strata_join[column] = strata_join[column].astype(str)\n",
    "\n",
    "    # Now remove parentheses and their contents, including the case where the cell might have 'nan'\n",
    "    # The regular expression '\\s*\\([^)]*\\)|^nan$' matches any character sequence starting with '(' and ending with ')'\n",
    "    # including the parentheses themselves, optionally preceding whitespace, or matches exactly 'nan'\n",
    "    strata_join[column] = strata_join[column].str.replace('\\s*\\([^)]*\\)|^nan$', '', regex=True)\n",
    "\n",
    "# After this operation, if you want to convert 'nan' strings back to NaN values, you can do another replacement\n",
    "strata_join.replace('nan', pd.NA, inplace=True)"
   ]
  },
  {
   "cell_type": "code",
   "execution_count": 14,
   "id": "6ad7c513",
   "metadata": {},
   "outputs": [],
   "source": [
    "# Replace \"Last Ad: Same & No Remiss\" in strata_sort columns\n",
    "\n",
    "columns_to_update = ['strata_sort_1', 'strata_sort_2', 'strata_sort_3', 'strata_sort_4', 'strata_sort_5', 'strata_sort_6', 'strata_sort_7', 'strata_sort_8', 'strata_sort_9']\n",
    "\n",
    "for column in columns_to_update:\n",
    "    strata_join[column] = strata_join[column].replace('Last Ad: Same & No Remiss', 'Used the same antidepressant within last year with no remission.')\n",
    "\n",
    "for column in columns_to_update:\n",
    "    strata_join[column] = strata_join[column].replace('Last Ad: Diff & No Remiss', 'Used a different antidepressant within last year with no remission.')\n",
    "\n",
    "for column in columns_to_update:\n",
    "    strata_join[column] = strata_join[column].replace('Last Ad: Diff & Remiss', 'Used a different antidepressant within last year with remission.')"
   ]
  },
  {
   "cell_type": "code",
   "execution_count": 15,
   "id": "652f37fe",
   "metadata": {},
   "outputs": [],
   "source": [
    "# Create Relevant History text\n",
    "\n",
    "def insert_relevant_history(row):\n",
    "    if row['only_gender_id_flag'] == 1:\n",
    "        return f\"<p>According to our data, you are {row['Age']} years old and of the {row['Gender']} Gender. None of the 16,770 patient profiles in our database correspond to your specific situation. As a result, we are unable to provide data-driven guidance tailored to you. Please rely on the judgment of your clinician regarding what is best for you.</p>\"\n",
    "    else:\n",
    "        # Dynamically create a list of non-empty and non-NaN strata_sort items\n",
    "        strata_sort_items = [f\"<li>{row[f'strata_sort_{i}']}</li>\" for i in range(1, 10) if pd.notna(row[f'strata_sort_{i}']) and row[f'strata_sort_{i}'] != '']\n",
    "        \n",
    "        # Join the list items into a single string\n",
    "        strata_sort_html = \"\".join(strata_sort_items)\n",
    "        \n",
    "        return f\"\"\"<p>According to our data, you are {row['Age']} years old, of the {row['Gender']} Gender, and have a history of taking the following medications/have a history of the following relevant illnesses:</p><ul>{strata_sort_html}</ul><p>If you believe an important aspect of your medical history has been overlooked, please mention it to your clinician when you provide them with this report.</p>\"\"\"\n",
    "\n",
    "# Applying the function to each row in the DataFrame and creating the new column\n",
    "strata_join['relevant_history'] = strata_join.apply(insert_relevant_history, axis=1)"
   ]
  },
  {
   "cell_type": "code",
   "execution_count": 16,
   "id": "7b3b4b5b",
   "metadata": {},
   "outputs": [],
   "source": [
    "# Create a flag for if the recommendations url exists\n",
    "\n",
    "def recommendation_url_exists(row):\n",
    "    session = requests.Session()\n",
    "    url = f\"https://hi.gmu.edu/ad_files/bar_results/bar_graph/barstrataID{row['strata_id']}.png\"\n",
    "    try:\n",
    "        response = session.head(url, timeout=5)\n",
    "        return 1 if response.status_code == 200 else 0\n",
    "    except requests.RequestException:\n",
    "        return 0\n",
    "\n",
    "# Assuming 'strata_join' is your DataFrame and it has been defined correctly\n",
    "strata_join['recommendation_url_exists'] = strata_join.apply(recommendation_url_exists, axis=1)"
   ]
  },
  {
   "cell_type": "code",
   "execution_count": 17,
   "id": "4ba07455",
   "metadata": {
    "scrolled": true
   },
   "outputs": [],
   "source": [
    "# Create the Recommendations graphs file\n",
    "\n",
    "def determine_recommendations_graphs_value(row):\n",
    "    url = f\"https://hi.gmu.edu/ad_files/bar_results/bar_graph/barstrataID{row['strata_id']}.png\"\n",
    "    \n",
    "    if row['a+b_is_-1_flag'] == 0 and row['only_gender_id_flag'] == 0 and row['less_than_10_percent_prob_flag'] == 0 and row['recommendation_url_exists'] == 1:\n",
    "        return f'<figure><img src=\"{url}\" width=\"600\" height=\"400\"></figure>'\n",
    "    else:\n",
    "        return None\n",
    "\n",
    "# Apply the function to create the new column\n",
    "strata_join['recommendations_graphs'] = strata_join.apply(determine_recommendations_graphs_value, axis=1)"
   ]
  },
  {
   "cell_type": "code",
   "execution_count": 18,
   "id": "f9461f26",
   "metadata": {},
   "outputs": [],
   "source": [
    "# Create a flag for if the executive summary url exists\n",
    "\n",
    "def executive_summary_url_exists(row):\n",
    "    session = requests.Session()\n",
    "    url = f\"https://hi.gmu.edu/ad_files/Piechart_9/StrataID{row['strata_id']}.png\"\n",
    "    try:\n",
    "        response = requests.head(url, timeout=5)\n",
    "        return 1 if response.status_code == 200 else 0\n",
    "    except requests.RequestException:\n",
    "        return 0\n",
    "\n",
    "# Apply the function to the DataFrame\n",
    "strata_join['executive_summary_url_exists'] = strata_join.apply(executive_summary_url_exists, axis=1)"
   ]
  },
  {
   "cell_type": "code",
   "execution_count": 19,
   "id": "6654ab07",
   "metadata": {},
   "outputs": [],
   "source": [
    "# Create the Executive Summary graphs file\n",
    "\n",
    "def determine_executive_summary_graphs_value(row):\n",
    "    url = f\"https://hi.gmu.edu/ad_files/Piechart_9/StrataID{row['strata_id']}.png\"\n",
    "    if row['a+b_is_-1_flag'] == 0 and row['only_gender_id_flag'] == 0 and row['less_than_10_percent_prob_flag'] == 0 and row['executive_summary_url_exists'] == 1:\n",
    "        return f'<figure><img src=\"{url}\" alt=\"{row[\"antidep\"]} is Best for You\" width=\"500\" height=\"300\"><figcaption>Figure 1: {row[\"antidep\"]} is Best for You</figcaption></figure>'\n",
    "    else:\n",
    "        return None\n",
    "\n",
    "# Apply the function to create the new column\n",
    "strata_join['executive_summary_graphs'] = strata_join.apply(determine_executive_summary_graphs_value, axis=1)"
   ]
  },
  {
   "cell_type": "code",
   "execution_count": null,
   "id": "6b24f286",
   "metadata": {},
   "outputs": [],
   "source": [
    "recommendations_graphs = strata_join['recommendations_graphs']"
   ]
  },
  {
   "cell_type": "code",
   "execution_count": null,
   "id": "507196cc",
   "metadata": {},
   "outputs": [],
   "source": [
    "# Mapping of antidepressants to their NIH links\n",
    "\n",
    "nih_links = {\n",
    "    'Amitriptyline': 'https://www.ncbi.nlm.nih.gov/books/NBK537225/',\n",
    "    'Bupropion': 'https://www.ncbi.nlm.nih.gov/books/NBK470212/',\n",
    "    'Citalopram': 'https://www.ncbi.nlm.nih.gov/books/NBK482222/',\n",
    "    'Desvenlafaxine': 'https://www.ncbi.nlm.nih.gov/books/NBK534829/',\n",
    "    'Doxepin': 'https://www.ncbi.nlm.nih.gov/books/NBK542306/',\n",
    "    'Duloxetine': 'https://www.ncbi.nlm.nih.gov/books/NBK549806/',\n",
    "    'Escitalopram': 'https://www.ncbi.nlm.nih.gov/books/NBK557734/',\n",
    "    'Fluoxetine': 'https://www.ncbi.nlm.nih.gov/books/NBK459223/',\n",
    "    'Mirtazapine': 'https://www.ncbi.nlm.nih.gov/books/NBK519059/',\n",
    "    'Nortriptyline': 'https://www.ncbi.nlm.nih.gov/books/NBK482214/',\n",
    "    'Paroxetine': 'https://www.ncbi.nlm.nih.gov/books/NBK526022/',\n",
    "    'Ropinirole': 'https://www.ncbi.nlm.nih.gov/books/NBK554532/',\n",
    "    'Sertraline': 'https://www.ncbi.nlm.nih.gov/books/NBK547689/',\n",
    "    'Trazodone': 'https://www.ncbi.nlm.nih.gov/books/NBK470560/',\n",
    "    'Venlafaxine': 'https://www.ncbi.nlm.nih.gov/books/NBK548799/',\n",
    "    'Other': 'https://www.ncbi.nlm.nih.gov/books/NBK538182/'\n",
    "}\n",
    "# Adding a new column 'antidep_link' to the table based on 'antidep' column values\n",
    "strata_join['antidep_link'] = strata_join['antidep'].map(nih_links)"
   ]
  },
  {
   "cell_type": "code",
   "execution_count": null,
   "id": "2063cc03",
   "metadata": {
    "scrolled": true
   },
   "outputs": [],
   "source": [
    "# Convert probability to a percentage\n",
    "\n",
    "strata_join['prob_percent'] = (strata_join['prob'] * 100).astype(int)"
   ]
  },
  {
   "cell_type": "code",
   "execution_count": null,
   "id": "e7985371",
   "metadata": {},
   "outputs": [],
   "source": [
    "# Create Executive Summary text\n",
    "\n",
    "def generate_executive_summary(row):\n",
    "    if row['only_gender_id_flag'] == 1:\n",
    "        return '<p> In the absence of any matched medical history, we advise you to consult a licensed healthcare professional to explore suitable treatment options.</p>'\n",
    "    elif row['less_than_10_percent_prob_flag'] == 1:\n",
    "        return '<p>There were not enough cases that matched your medical history, so we advise you to consult a licensed healthcare professional to explore suitable treatment options.</p>'\n",
    "    elif row['a+b_is_-1_flag'] == 0 and row['only_gender_id_flag'] == 0 and row['less_than_10_percent_prob_flag'] == 0:\n",
    "        return f'''<p1> Among patients with similar medical history as you, {row['antidep']} gives you the highest chances for remission. Only {row['prob_percent']}% of patients who took it experienced remission.</p1><br> {row['executive_summary_graphs']} <p3> Out of the 15 common antidepressants we examined, none had remission rates that exceeded {row['prob_percent']}%</p3><p>Learn more about Medications: <a href=\"{row['antidep_link']}\">{row['antidep']}</a></p>'''\n",
    "    else:\n",
    "        return '<p>There are no specific oral antidepressants recommended for you.</p>'\n",
    "\n",
    "# Assuming the DataFrame is named stata_join and has the necessary columns\n",
    "strata_join['executive_summary'] = strata_join.apply(generate_executive_summary, axis=1)"
   ]
  },
  {
   "cell_type": "code",
   "execution_count": null,
   "id": "bd796df9",
   "metadata": {},
   "outputs": [],
   "source": [
    "# Remove duplicate rows\n",
    "\n",
    "strata_join = strata_join.drop_duplicates()"
   ]
  },
  {
   "cell_type": "code",
   "execution_count": null,
   "id": "15131335",
   "metadata": {},
   "outputs": [],
   "source": [
    "# Column for all antidepressants not recommended list\n",
    "\n",
    "# List of all antidepressants\n",
    "all_antidepressants = [\n",
    "    \"Amitriptyline\", \"Bupropion\", \"Citalopram\", \"Desvenlafaxine\", \n",
    "    \"Doxepin\", \"Duloxetine\", \"Escitalopram\", \"Fluoxetine\", \n",
    "    \"Mirtazapine\", \"Nortriptyline\", \"Paroxetine\", \"Ropinirole\", \n",
    "    \"Sertraline\", \"Trazodone\", \"Venlafaxine\", \"Other\"\n",
    "]\n",
    "\n",
    "# Step 1 & 2: Aggregate unique antidepressants per `strata_id` and determine not prescribed\n",
    "# Note: This assumes the 'antidep' column for each row lists a single antidepressant or 'Other'\n",
    "grouped_antideps = strata_join.groupby('strata_id')['antidep'].unique()\n",
    "\n",
    "# Generating the 'not_prescribed' column\n",
    "def get_not_prescribed(row):\n",
    "    prescribed = set(grouped_antideps[row['strata_id']])\n",
    "    not_prescribed = set(all_antidepressants) - prescribed\n",
    "    not_prescribed_list = list(not_prescribed)\n",
    "    # Format the list into a string with 'and' if needed\n",
    "    if len(not_prescribed_list) > 1:\n",
    "        return ', '.join(not_prescribed_list[:-1]) + ' and ' + not_prescribed_list[-1]\n",
    "    elif not_prescribed_list:\n",
    "        return not_prescribed_list[0]\n",
    "    else:\n",
    "        return ''\n",
    "\n",
    "strata_join['not_prescribed'] = strata_join.apply(get_not_prescribed, axis=1)"
   ]
  },
  {
   "cell_type": "code",
   "execution_count": null,
   "id": "2ecfdfca",
   "metadata": {},
   "outputs": [],
   "source": [
    "# Create Recommendations text\n",
    "\n",
    "def generate_recommendations(group):\n",
    "    # Sort by 'recommended_antidep_flag' in descending order, then by 'prob_percent' in descending order\n",
    "    group = group.sort_values(by=['recommended_antidep_flag', 'prob_percent'], ascending=[False, False])\n",
    "    \n",
    "    recommendations = []\n",
    "    \n",
    "    for idx, row in group.iterrows():\n",
    "        # Condition for 'a+b'\n",
    "        if row['a+b'] == '-1':\n",
    "            a_b_message = \"Few\"\n",
    "        else:\n",
    "            a_b_message = f\"{row['a+b']} persons\"\n",
    "        \n",
    "        # Condition for 'antidep'\n",
    "        if row['antidep'] == \"Other\":\n",
    "            antidep_message = \"uncommon or multiple antidepressants\"\n",
    "        else:\n",
    "            antidep_message = row['antidep']\n",
    "        \n",
    "        # Base recommendation message\n",
    "        message = f\"{a_b_message} tried {antidep_message} and {row['prob_percent']}% experienced remission\"\n",
    "        \n",
    "        # Append the note for the antidepressant with the highest remission rate\n",
    "        if idx == group.first_valid_index():\n",
    "            message += \". This was the antidepressant with the highest remission rate.\"\n",
    "        \n",
    "        # Wrap the message in an <li> tag\n",
    "        recommendations.append(f\"<li>{message}</li>\")\n",
    "    \n",
    "    # Join all the <li> items into an <ol>\n",
    "    recommendations_html = \"<ol>\" + \"\".join(recommendations) + \"</ol>\"\n",
    "    return recommendations_html\n",
    "\n",
    "# Apply the function and create a mapping from strata_id to recommendations\n",
    "recommendations_map = strata_join.groupby('strata_id').apply(generate_recommendations)\n",
    "\n",
    "# Map the recommendations back to the original DataFrame\n",
    "strata_join['recommendations_percent_list'] = strata_join['strata_id'].map(recommendations_map)"
   ]
  },
  {
   "cell_type": "code",
   "execution_count": null,
   "id": "bc5a4f1e",
   "metadata": {},
   "outputs": [],
   "source": [
    "#Create a recommended_antidep_flag for the actual recommended antidepressant\n",
    "\n",
    "# Assuming strata_join is your DataFrame\n",
    "strata_join['recommended_antidep_flag'] = strata_join.sort_values('prob', ascending=False) \\\n",
    "    .groupby('strata_id') \\\n",
    "    .cumcount() == 0\n",
    "\n",
    "# Convert True/False to 1/0\n",
    "strata_join['recommended_antidep_flag'] = strata_join['recommended_antidep_flag'].astype(int)"
   ]
  },
  {
   "cell_type": "code",
   "execution_count": null,
   "id": "1de8033b",
   "metadata": {},
   "outputs": [],
   "source": [
    "# Clean the 'a+b' column by removing commas and converting to integer\n",
    "\n",
    "strata_join['a+b'] = strata_join['a+b'].str.replace(',', '').astype(int)"
   ]
  },
  {
   "cell_type": "code",
   "execution_count": null,
   "id": "d9dd242d",
   "metadata": {},
   "outputs": [],
   "source": [
    "# Create a column with the total matched cases\n",
    "\n",
    "# Filter rows where 'a+b_is_-1_flag' equals 0\n",
    "filtered_data = strata_join[strata_join['a+b_is_-1_flag'] == 0]\n",
    "\n",
    "# Group by 'strata_id' and sum 'a+b' within each group\n",
    "grouped_sum = filtered_data.groupby('strata_id', as_index=False)['a+b'].sum().rename(columns={'a+b': 'matched_cases'})\n",
    "\n",
    "# Merge this sum back into the original dataframe\n",
    "# Ensure we are adding the 'matched_cases' as a new column or updating it if it already exists\n",
    "strata_join = pd.merge(strata_join.drop(columns='matched_cases', errors='ignore'), grouped_sum, on='strata_id', how='left')\n",
    "\n",
    "# Fill NaNs with 0 in 'matched_cases' and convert to integer\n",
    "strata_join['matched_cases'] = strata_join['matched_cases'].fillna(0).astype(int)"
   ]
  },
  {
   "cell_type": "code",
   "execution_count": null,
   "id": "4c443c74",
   "metadata": {},
   "outputs": [],
   "source": [
    "# Create Recommendations text\n",
    "\n",
    "def generate_recommendations(row):\n",
    "    if row['only_gender_id_flag'] == 1:\n",
    "        return '<p>Our recommendations are based on the experiences of more than 3 million people with more than 10 million antidepressants. We divide patients into 16,770 profiles, each profile is a unique combination of factors that affect remission. Your features did not match any of our profiles. This suggests that you have a combination of factors that are rare for your age and gender; and for which we do not have sufficient data to provide any advice. It is best to discuss treatment with a clinical provider about which medications may be optimal for you.</p>'\n",
    "    elif row['less_than_10_percent_prob_flag'] == 1:\n",
    "        return f'''<p>Less than 10% of {row['matched_cases']} cases that match you responded to any of the 15 common oral antidepressants. These experiences suggest that you may not fully benefit from common oral antidepressants. We recommend that you look at other methods of managing depression besides or in addition to oral antidepressants. These alternatives include medications such as ketamine or esketamine, as well as interventional therapies like transcranial magnetic stimulation (TMS). Each option comes with its own set of considerations regarding efficacy, administration, and potential side effects.</p><p>In addition to exploring alternative treatments in place of oral antidepressants, it is also worth considering augmenting oral antidepressants with your current psychotropic medications. This strategy involves adding another medication to an existing antidepressant regimen, potentially enhancing the therapeutic effects. Augmentation strategies can be an effective path for individuals who do not fully respond to monotherapy and are worth discussing with your healthcare provider.</p><b>How Did We Arrive At Our Conclusions?</b><p>Our recommendations are based on the experiences of more than 3 million people with more than 10 million antidepressants. We divide cases in our data into 16,770 profiles, each profile represents a unique medical history. We have matched your medical history to one of these profiles, that includes {row['matched_cases']} cases similar to you.</p><b>More Information</b><p>For more information about alternative therapies please read the following peer-reviewed published articles:</p><ul><li><a href=\"https://doi.org/10.30773%2Fpi.2019.0236\">Ketamine in Major Depressive Disorder</a></li><li><a href=\"https://doi.org/10.1007%2Fs44192-022-00012-3\">Alternative Treatments for Depression</a></li><li><a href=\"https://doi.org/10.4103%2Fipj.ipj_88_18\">Transcranial magnetic stimulation</a></li><li><a href=\"https://www.ncbi.nlm.nih.gov/pmc/articles/PMC2958866/\">Augmentation and Combination Strategies for Treatment-Resistant Depression</a></li></ul><p>We strongly recommend consulting with a licensed professional before considering any changes to your treatment plan. Mental health treatment is highly individualized, and a healthcare provider can offer guidance tailored to your specific situation.</p><p><u>Note:</u> Should you wish to access this report again, kindly note it is designated as Report #{row['strata_id']}.</p>'''\n",
    "    elif row['a+b_is_-1_flag'] == 0 and row['only_gender_id_flag'] == 0 and row['less_than_10_percent_prob_flag'] == 0 and row['recommended_antidep_flag'] == 1:\n",
    "        return f'''<p>Remission means that your symptoms will be reduced by 50%. We examined the experiences of more than 3 million patients and more than 10 million antidepressant treatments. Most of these patients did not match your age, gender, and key aspects of your medical history. Among {row['matched_cases']} who did match you, the following remission rates were observed (listed in order of effectiveness): </p>{row['recommendations_percent_list']} {row['recommendations_graphs']} <p>We recommend you take {row['antidep']}.</p> <p>The following antidepressants were not prescribed to patients with your medical background: {row['not_prescribed']}</p><b>How Did We Arrive to Our Conclusions?</b><p>Our recommendations are based on the experiences of more than 3 million people with more than 10 million antidepressants. We divide cases in our data into 16,770 profiles, each profile represents a unique medical history. We have matched your medical history to one of these profiles, that includes {row['matched_cases']} cases similar to you.</p><b>More Information</b><p>For more information on the effectiveness of common antidepressants, see <a href=\"https://pubmed.ncbi.nlm.nih.gov/34877511/\">Effectiveness of common antidepressants: a post market release study.</a></p><p>We strongly recommend consulting with a licensed professional before considering any changes to your treatment plan. Mental health treatment is highly individualized, and a healthcare provider can offer guidance tailored to your specific situation.</p><p><u>Note:</u> Should you wish to access this report again, kindly note it is designated as Report #{row['strata_id']}.</p>'''\n",
    "    else:\n",
    "        return \"No recommendation available due to missing or incomplete data.\"\n",
    "\n",
    "# Apply the function to each row and create a new column for the recommendations\n",
    "strata_join['Recommendations'] = strata_join.apply(generate_recommendations, axis=1)"
   ]
  },
  {
   "cell_type": "code",
   "execution_count": null,
   "id": "7792837b",
   "metadata": {
    "scrolled": true
   },
   "outputs": [],
   "source": [
    "# Create a new table with only values where recommended_antidep_flag = 1\n",
    "\n",
    "strata_final = strata_join[strata_join['recommended_antidep_flag'] == 1]"
   ]
  },
  {
   "cell_type": "code",
   "execution_count": null,
   "id": "5d1b0324",
   "metadata": {},
   "outputs": [],
   "source": [
    "# List of columns to check for missing values\n",
    "\n",
    "columns_to_check = ['strata_sort_1', 'strata_sort_2', 'strata_sort_3', 'strata_sort_4', 'strata_sort_5', 'strata_sort_6', 'strata_sort_7', 'strata_sort_8', 'strata_sort_9']\n",
    "\n",
    "for column in columns_to_check:\n",
    "    # Replace any non-NA/NaN values that may represent missing data with NaN using .loc\n",
    "    strata_final.loc[strata_final[column] == '', column] = np.nan\n",
    "    strata_final.loc[strata_final[column] == ' ', column] = np.nan"
   ]
  },
  {
   "cell_type": "code",
   "execution_count": null,
   "id": "d0d5372a",
   "metadata": {
    "scrolled": true
   },
   "outputs": [],
   "source": [
    "# Case 1: Find matches\n",
    "\n",
    "# Use .copy() to ensure you're working with a DataFrame that won't raise warnings\n",
    "strata_final = strata_final.copy()\n",
    "\n",
    "# Adding a column to store HTML outputs for each row based on matches\n",
    "strata_final['html_output_case_1'] = None\n",
    "\n",
    "# Optimizing the loop by avoiding iterrows() which is slow for large DataFrames\n",
    "for index, row in strata_final[pd.isnull(strata_final['strata_sort_2'])].iterrows():\n",
    "    matches = strata_final[\n",
    "        (strata_final['Age'] == row['Age']) &\n",
    "        (strata_final['Gender'] == row['Gender']) &\n",
    "        (strata_final['strata_sort_1'] == row['strata_sort_1']) &\n",
    "        (strata_final['strata_sort_2'] != row['strata_sort_2']) &\n",
    "        (strata_final['strata_sort_2'].notna()) &  # Ensure strata_sort_2 is not null\n",
    "        (strata_final['strata_sort_3'].isna()) &  # Ensure strata_sort_3 is null\n",
    "        (strata_final['strata_id'] != row['strata_id'])  # Avoid matching the same row\n",
    "    ]\n",
    "\n",
    "    # Formatting matches to HTML\n",
    "    html_output = '<ul>'\n",
    "    for _, match in matches.iterrows():\n",
    "        html_output += f\"<li>{match['strata_sort_2']}: We instead recommend <a href='{match['antidep_link']}'>{match['antidep']}</a>.</li>\"\n",
    "    html_output += '</ul>'\n",
    "    \n",
    "    # Only update the row if there are matches\n",
    "    if not matches.empty:\n",
    "        strata_final.at[index, 'html_output_case_1'] = html_output"
   ]
  },
  {
   "cell_type": "code",
   "execution_count": null,
   "id": "c4e9ea70",
   "metadata": {},
   "outputs": [],
   "source": [
    "# Case 2: Find matches\n",
    "\n",
    "# Use .copy() to ensure you're working with a DataFrame that won't raise warnings\n",
    "strata_final = strata_final.copy()\n",
    "\n",
    "# Adding a column to store HTML outputs for each row based on matches\n",
    "strata_final['html_output_case_2'] = None\n",
    "\n",
    "# Optimizing the loop by avoiding iterrows() which is slow for large DataFrames\n",
    "for index, row in strata_final[pd.isnull(strata_final['strata_sort_3'])].iterrows():\n",
    "    matches = strata_final[\n",
    "        (strata_final['Age'] == row['Age']) &\n",
    "        (strata_final['Gender'] == row['Gender']) &\n",
    "        (strata_final['strata_sort_1'] == row['strata_sort_1']) &\n",
    "        (strata_final['strata_sort_2'] == row['strata_sort_2']) &\n",
    "        (strata_final['strata_sort_3'] != row['strata_sort_3']) &\n",
    "        (strata_final['strata_sort_2'].notna()) &  # Ensure strata_sort_2 is not null\n",
    "        (strata_final['strata_sort_3'].notna()) &  # Ensure strata_sort_3 is not null\n",
    "        (strata_final['strata_sort_4'].isna()) &  # Ensure strata_sort_4 is null\n",
    "        (strata_final['strata_id'] != row['strata_id'])  # Avoid matching the same row\n",
    "    ]\n",
    "\n",
    "    # Formatting matches to HTML\n",
    "    html_output = '<ul>'\n",
    "    for _, match in matches.iterrows():\n",
    "        html_output += f\"<li>{match['strata_sort_3']}: We instead recommend <a href='{match['antidep_link']}'>{match['antidep']}</a>.</li>\"\n",
    "    html_output += '</ul>'\n",
    "    \n",
    "    # Only update the row if there are matches\n",
    "    if not matches.empty:\n",
    "        strata_final.at[index, 'html_output_case_2'] = html_output"
   ]
  },
  {
   "cell_type": "code",
   "execution_count": null,
   "id": "4f17a3e6",
   "metadata": {},
   "outputs": [],
   "source": [
    "# Case 3: Find matches\n",
    "\n",
    "# Use .copy() to ensure you're working with a DataFrame that won't raise warnings\n",
    "strata_final = strata_final.copy()\n",
    "\n",
    "# Adding a column to store HTML outputs for each row based on matches\n",
    "strata_final['html_output_case_3'] = None\n",
    "\n",
    "# Optimizing the loop by avoiding iterrows() which is slow for large DataFrames\n",
    "for index, row in strata_final[pd.isnull(strata_final['strata_sort_4'])].iterrows():\n",
    "    matches = strata_final[\n",
    "        (strata_final['Age'] == row['Age']) &\n",
    "        (strata_final['Gender'] == row['Gender']) &\n",
    "        (strata_final['strata_sort_1'] == row['strata_sort_1']) &\n",
    "        (strata_final['strata_sort_2'] == row['strata_sort_2']) &\n",
    "        (strata_final['strata_sort_3'] == row['strata_sort_3']) &\n",
    "        (strata_final['strata_sort_4'] != row['strata_sort_4']) &\n",
    "        (strata_final['strata_sort_2'].notna()) &  # Ensure strata_sort_2 is not null\n",
    "        (strata_final['strata_sort_3'].notna()) &  # Ensure strata_sort_3 is not null\n",
    "        (strata_final['strata_sort_4'].notna()) &  # Ensure strata_sort_4 is not null\n",
    "        (strata_final['strata_sort_5'].isna()) &  # Ensure strata_sort_5 is null\n",
    "        (strata_final['strata_id'] != row['strata_id'])  # Avoid matching the same row\n",
    "    ]\n",
    "\n",
    "    # Formatting matches to HTML\n",
    "    html_output = '<ul>'\n",
    "    for _, match in matches.iterrows():\n",
    "        html_output += f\"<li>{match['strata_sort_4']}: We instead recommend <a href='{match['antidep_link']}'>{match['antidep']}</a>.</li>\"\n",
    "    html_output += '</ul>'\n",
    "    \n",
    "    # Only update the row if there are matches\n",
    "    if not matches.empty:\n",
    "        strata_final.at[index, 'html_output_case_3'] = html_output"
   ]
  },
  {
   "cell_type": "code",
   "execution_count": null,
   "id": "2b91ef4c",
   "metadata": {},
   "outputs": [],
   "source": [
    "# Case 4: Find matches\n",
    "\n",
    "# Use .copy() to ensure you're working with a DataFrame that won't raise warnings\n",
    "strata_final = strata_final.copy()\n",
    "\n",
    "# Adding a column to store HTML outputs for each row based on matches\n",
    "strata_final['html_output_case_4'] = None\n",
    "\n",
    "# Optimizing the loop by avoiding iterrows() which is slow for large DataFrames\n",
    "for index, row in strata_final[pd.isnull(strata_final['strata_sort_5'])].iterrows():\n",
    "    matches = strata_final[\n",
    "        (strata_final['Age'] == row['Age']) &\n",
    "        (strata_final['Gender'] == row['Gender']) &\n",
    "        (strata_final['strata_sort_1'] == row['strata_sort_1']) &\n",
    "        (strata_final['strata_sort_2'] == row['strata_sort_2']) &\n",
    "        (strata_final['strata_sort_3'] == row['strata_sort_3']) &\n",
    "        (strata_final['strata_sort_4'] == row['strata_sort_4']) &\n",
    "        (strata_final['strata_sort_5'] != row['strata_sort_5']) &\n",
    "        (strata_final['strata_sort_2'].notna()) &  # Ensure strata_sort_2 is not null\n",
    "        (strata_final['strata_sort_3'].notna()) &  # Ensure strata_sort_3 is not null\n",
    "        (strata_final['strata_sort_4'].notna()) &  # Ensure strata_sort_4 is not null\n",
    "        (strata_final['strata_sort_5'].notna()) &  # Ensure strata_sort_5 is not null\n",
    "        (strata_final['strata_sort_6'].isna()) &  # Ensure strata_sort_6 is null\n",
    "        (strata_final['strata_id'] != row['strata_id'])  # Avoid matching the same row\n",
    "    ]\n",
    "\n",
    "    # Formatting matches to HTML\n",
    "    html_output = '<ul>'\n",
    "    for _, match in matches.iterrows():\n",
    "        html_output += f\"<li>{match['strata_sort_5']}: We instead recommend <a href='{match['antidep_link']}'>{match['antidep']}</a>.</li>\"\n",
    "    html_output += '</ul>'\n",
    "    \n",
    "    # Only update the row if there are matches\n",
    "    if not matches.empty:\n",
    "        strata_final.at[index, 'html_output_case_4'] = html_output"
   ]
  },
  {
   "cell_type": "code",
   "execution_count": null,
   "id": "d4b59bc2",
   "metadata": {},
   "outputs": [],
   "source": [
    "# Case 5: Find matches\n",
    "\n",
    "# Use .copy() to ensure you're working with a DataFrame that won't raise warnings\n",
    "strata_final = strata_final.copy()\n",
    "\n",
    "# Adding a column to store HTML outputs for each row based on matches\n",
    "strata_final['html_output_case_5'] = None\n",
    "\n",
    "# Optimizing the loop by avoiding iterrows() which is slow for large DataFrames\n",
    "for index, row in strata_final[pd.isnull(strata_final['strata_sort_6'])].iterrows():\n",
    "    matches = strata_final[\n",
    "        (strata_final['Age'] == row['Age']) &\n",
    "        (strata_final['Gender'] == row['Gender']) &\n",
    "        (strata_final['strata_sort_1'] == row['strata_sort_1']) &\n",
    "        (strata_final['strata_sort_2'] == row['strata_sort_2']) &\n",
    "        (strata_final['strata_sort_3'] == row['strata_sort_3']) &\n",
    "        (strata_final['strata_sort_4'] == row['strata_sort_4']) &\n",
    "        (strata_final['strata_sort_5'] == row['strata_sort_5']) &\n",
    "        (strata_final['strata_sort_6'] != row['strata_sort_6']) &\n",
    "        (strata_final['strata_sort_2'].notna()) &  # Ensure strata_sort_2 is not null\n",
    "        (strata_final['strata_sort_3'].notna()) &  # Ensure strata_sort_3 is not null\n",
    "        (strata_final['strata_sort_4'].notna()) &  # Ensure strata_sort_4 is not null\n",
    "        (strata_final['strata_sort_5'].notna()) &  # Ensure strata_sort_5 is not null\n",
    "        (strata_final['strata_sort_6'].notna()) &  # Ensure strata_sort_6 is not null\n",
    "        (strata_final['strata_sort_7'].isna()) &  # Ensure strata_sort_7 is null\n",
    "        (strata_final['strata_id'] != row['strata_id'])  # Avoid matching the same row\n",
    "    ]\n",
    "\n",
    "    # Formatting matches to HTML\n",
    "    html_output = '<ul>'\n",
    "    for _, match in matches.iterrows():\n",
    "        html_output += f\"<li>{match['strata_sort_6']}: We instead recommend <a href='{match['antidep_link']}'>{match['antidep']}</a>.</li>\"\n",
    "    html_output += '</ul>'\n",
    "    \n",
    "    # Only update the row if there are matches\n",
    "    if not matches.empty:\n",
    "        strata_final.at[index, 'html_output_case_5'] = html_output"
   ]
  },
  {
   "cell_type": "code",
   "execution_count": null,
   "id": "ac24099e",
   "metadata": {},
   "outputs": [],
   "source": [
    "# Case 6: Find matches\n",
    "\n",
    "# Use .copy() to ensure you're working with a DataFrame that won't raise warnings\n",
    "strata_final = strata_final.copy()\n",
    "\n",
    "# Adding a column to store HTML outputs for each row based on matches\n",
    "strata_final['html_output_case_6'] = None\n",
    "\n",
    "# Optimizing the loop by avoiding iterrows() which is slow for large DataFrames\n",
    "for index, row in strata_final[pd.isnull(strata_final['strata_sort_7'])].iterrows():\n",
    "    matches = strata_final[\n",
    "        (strata_final['Age'] == row['Age']) &\n",
    "        (strata_final['Gender'] == row['Gender']) &\n",
    "        (strata_final['strata_sort_1'] == row['strata_sort_1']) &\n",
    "        (strata_final['strata_sort_2'] == row['strata_sort_2']) &\n",
    "        (strata_final['strata_sort_3'] == row['strata_sort_3']) &\n",
    "        (strata_final['strata_sort_4'] == row['strata_sort_4']) &\n",
    "        (strata_final['strata_sort_5'] == row['strata_sort_5']) &\n",
    "        (strata_final['strata_sort_6'] == row['strata_sort_6']) &\n",
    "        (strata_final['strata_sort_7'] != row['strata_sort_7']) &\n",
    "        (strata_final['strata_sort_2'].notna()) &  # Ensure strata_sort_2 is not null\n",
    "        (strata_final['strata_sort_3'].notna()) &  # Ensure strata_sort_3 is not null\n",
    "        (strata_final['strata_sort_4'].notna()) &  # Ensure strata_sort_4 is not null\n",
    "        (strata_final['strata_sort_5'].notna()) &  # Ensure strata_sort_5 is not null\n",
    "        (strata_final['strata_sort_6'].notna()) &  # Ensure strata_sort_6 is not null\n",
    "        (strata_final['strata_sort_7'].notna()) &  # Ensure strata_sort_7 is not null\n",
    "        (strata_final['strata_sort_8'].isna()) &  # Ensure strata_sort_8 is null\n",
    "        (strata_final['strata_id'] != row['strata_id'])  # Avoid matching the same row\n",
    "    ]\n",
    "\n",
    "    # Formatting matches to HTML\n",
    "    html_output = '<ul>'\n",
    "    for _, match in matches.iterrows():\n",
    "        html_output += f\"<li>{match['strata_sort_7']}: We instead recommend <a href='{match['antidep_link']}'>{match['antidep']}</a>.</li>\"\n",
    "    html_output += '</ul>'\n",
    "    \n",
    "    # Only update the row if there are matches\n",
    "    if not matches.empty:\n",
    "        strata_final.at[index, 'html_output_case_6'] = html_output"
   ]
  },
  {
   "cell_type": "code",
   "execution_count": null,
   "id": "d7aac964",
   "metadata": {},
   "outputs": [],
   "source": [
    "# Merge the html_output_case columns \n",
    "\n",
    "strata_final['html_output_cases'] = strata_final.apply(lambda row: \n",
    "    (str(row['html_output_case_1']) if row['html_output_case_1'] is not None else '') +\n",
    "    (str(row['html_output_case_2']) if row['html_output_case_2'] is not None else '') +\n",
    "    (str(row['html_output_case_3']) if row['html_output_case_3'] is not None else '') +\n",
    "    (str(row['html_output_case_4']) if row['html_output_case_4'] is not None else '') +\n",
    "    (str(row['html_output_case_5']) if row['html_output_case_5'] is not None else '') +\n",
    "    (str(row['html_output_case_6']) if row['html_output_case_6'] is not None else ''), axis=1)"
   ]
  },
  {
   "cell_type": "code",
   "execution_count": null,
   "id": "771d23e1",
   "metadata": {},
   "outputs": [],
   "source": [
    "strata_final['html_output_cases'] = strata_final['html_output_cases'].replace(['', ' '], None)"
   ]
  },
  {
   "cell_type": "code",
   "execution_count": null,
   "id": "89e7363b",
   "metadata": {},
   "outputs": [],
   "source": [
    "# Create Exceptions text\n",
    "\n",
    "def generate_exceptions(row):\n",
    "    # Checks if flags are 0 and `html_output_cases` is neither None, NaN, nor an empty string\n",
    "    if (row['a+b_is_-1_flag'] == 0 and row['only_gender_id_flag'] == 0 and row['less_than_10_percent_prob_flag'] == 0) and pd.notnull(row['html_output_cases']) and row['html_output_cases'].strip() != '':\n",
    "        return f'<p>Considering your specific medical history, as well as potential additional factors, our tailored antidepressant recommendations are designed with precision to enhance your treatment outcomes. Should you experience additional medications, illnesses, and procedures such as:</p> {row[\"html_output_cases\"]} <p>Our approach is to provide a personalized and nuanced treatment plan, aimed at achieving the best possible outcomes for your health and well-being.</p>'\n",
    "    else:\n",
    "        return '<p>Given the specifics of your case, consulting a licensed healthcare professional for a suitable treatment option is advised.</p><p>For more information on the effectiveness of common antidepressants, see <a href=\"https://pubmed.ncbi.nlm.nih.gov/34877511/\">Effectiveness of common antidepressants: a post market release study.</a></p>'\n",
    "\n",
    "# Assuming strata_final is your DataFrame\n",
    "# Apply the function to each row and create a new column for the exceptions\n",
    "strata_final['Exceptions'] = strata_final.apply(generate_exceptions, axis=1)"
   ]
  },
  {
   "cell_type": "code",
   "execution_count": null,
   "id": "5a3382fc",
   "metadata": {
    "scrolled": true
   },
   "outputs": [],
   "source": [
    "#Display Data\n",
    "\n",
    "strata_final"
   ]
  },
  {
   "cell_type": "code",
   "execution_count": 88,
   "id": "f673637f",
   "metadata": {
    "scrolled": true
   },
   "outputs": [],
   "source": [
    "#Export Data\n",
    "\n",
    "strata_final.to_csv('C:\\\\Users\\\\Bajo\\\\OneDrive\\\\Desktop\\\\GMU GRA Project\\\\Antidepressants_database\\\\strata_final_table.csv', index=False) "
   ]
  },
  {
   "cell_type": "code",
   "execution_count": 179,
   "id": "d0d77c66",
   "metadata": {},
   "outputs": [],
   "source": [
    "# Create html Reports column\n",
    "\n",
    "def create_report(row):\n",
    "    return f\"\"\"<h1><strong>Antidepressant Recommendation Report ID #{row['strata_id']}</strong></h1><h3>Relevant History</h3>{row['relevant_history']}<h3>Executive Summary</h3>{row['executive_summary']}<h3>Recommendations</h3>{row['Recommendations']}<h3>Exceptions</h3>{row['Exceptions']}\"\"\"\n",
    "\n",
    "strata_final['report'] = strata_final.apply(create_report, axis=1)"
   ]
  },
  {
   "cell_type": "code",
   "execution_count": 182,
   "id": "233cdf4e",
   "metadata": {},
   "outputs": [
    {
     "name": "stdout",
     "output_type": "stream",
     "text": [
      "Report exported successfully.\n"
     ]
    }
   ],
   "source": [
    "# Export a sample report\n",
    "\n",
    "# Filter the DataFrame to find the row with strata_id = 10\n",
    "row = strata_final[strata_final['strata_id'] == 10]  # Make sure strata_id is treated as the correct type\n",
    "\n",
    "# Check if the row exists\n",
    "if not row.empty:\n",
    "    # Extract the 'report' content\n",
    "    report_content = row['report'].values[0]\n",
    "    \n",
    "    # Define the file path (use an r before the string to avoid issues with backslashes)\n",
    "    file_path = r'C:\\Users\\Bajo\\OneDrive\\Desktop\\GMU GRA Project\\report_10.html'\n",
    "    \n",
    "    # Write the content to an HTML file\n",
    "    with open(file_path, 'w', encoding='utf-8') as file:\n",
    "        file.write(report_content)\n",
    "    print(\"Report exported successfully.\")\n",
    "else:\n",
    "    print(\"No row found with strata_id = 10.\")"
   ]
  },
  {
   "cell_type": "code",
   "execution_count": null,
   "id": "48b59d2d",
   "metadata": {},
   "outputs": [],
   "source": [
    "# Export Relevant History's as html's\n",
    "\n",
    "for index, row in strata_final.iterrows():\n",
    "    # Generate the file name using the strata_id\n",
    "    file_name = f\"strata_{row['strata_id']}.html\"\n",
    "    \n",
    "    # Define the file path - modify the base_path as needed to fit your directory structure\n",
    "    base_path = r\"C:\\Users\\Bajo\\OneDrive\\Desktop\\GMU GRA Project\\Relevant History\"\n",
    "    file_path = f\"{base_path}\\\\{file_name}\"\n",
    "    \n",
    "    # Write the 'report' content to an HTML file\n",
    "    with open(file_path, 'w', encoding='utf-8') as file:\n",
    "        file.write(row['relevant_history'])"
   ]
  },
  {
   "cell_type": "code",
   "execution_count": null,
   "id": "3744e374",
   "metadata": {},
   "outputs": [],
   "source": [
    "# Export Executive summary's as html's\n",
    "\n",
    "for index, row in strata_final.iterrows():\n",
    "    # Generate the file name using the strata_id\n",
    "    file_name = f\"strata_{row['strata_id']}.html\"\n",
    "    \n",
    "    # Define the file path - modify the base_path as needed to fit your directory structure\n",
    "    base_path = r\"C:\\Users\\Bajo\\OneDrive\\Desktop\\GMU GRA Project\\Executive Summary\"\n",
    "    file_path = f\"{base_path}\\\\{file_name}\"\n",
    "    \n",
    "    # Write the 'report' content to an HTML file\n",
    "    with open(file_path, 'w', encoding='utf-8') as file:\n",
    "        file.write(row['executive_summary'])"
   ]
  },
  {
   "cell_type": "code",
   "execution_count": null,
   "id": "bed74bac",
   "metadata": {},
   "outputs": [],
   "source": [
    "# Export Recommendations' as html's\n",
    "\n",
    "for index, row in strata_final.iterrows():\n",
    "    # Generate the file name using the strata_id\n",
    "    file_name = f\"strata_{row['strata_id']}.html\"\n",
    "    \n",
    "    # Define the file path - modify the base_path as needed to fit your directory structure\n",
    "    base_path = r\"C:\\Users\\Bajo\\OneDrive\\Desktop\\GMU GRA Project\\Recommendations\"\n",
    "    file_path = f\"{base_path}\\\\{file_name}\"\n",
    "    \n",
    "    # Write the 'report' content to an HTML file\n",
    "    with open(file_path, 'w', encoding='utf-8') as file:\n",
    "        file.write(row['Recommendations'])"
   ]
  },
  {
   "cell_type": "code",
   "execution_count": null,
   "id": "c2764a16",
   "metadata": {},
   "outputs": [],
   "source": [
    "# Export Exceptions's as html's\n",
    "\n",
    "for index, row in strata_final.iterrows():\n",
    "    # Generate the file name using the strata_id\n",
    "    file_name = f\"strata_{row['strata_id']}.html\"\n",
    "    \n",
    "    # Define the file path - modify the base_path as needed to fit your directory structure\n",
    "    base_path = r\"C:\\Users\\Bajo\\OneDrive\\Desktop\\GMU GRA Project\\Exceptions\"\n",
    "    file_path = f\"{base_path}\\\\{file_name}\"\n",
    "    \n",
    "    # Write the 'report' content to an HTML file\n",
    "    with open(file_path, 'w', encoding='utf-8') as file:\n",
    "        file.write(row['Exceptions'])"
   ]
  },
  {
   "cell_type": "code",
   "execution_count": 185,
   "id": "67b21cea",
   "metadata": {},
   "outputs": [],
   "source": [
    "# Export html reports\n",
    "\n",
    "for index, row in strata_final.iterrows():\n",
    "    # Generate the file name using the strata_id\n",
    "    file_name = f\"strata_{row['strata_id']}.html\"\n",
    "    \n",
    "    # Define the file path - modify the base_path as needed to fit your directory structure\n",
    "    base_path = r\"C:\\Users\\Bajo\\OneDrive\\Desktop\\GMU GRA Project\\HTML Reports\"\n",
    "    file_path = f\"{base_path}\\\\{file_name}\"\n",
    "    \n",
    "    # Write the 'report' content to an HTML file\n",
    "    with open(file_path, 'w', encoding='utf-8') as file:\n",
    "        file.write(row['report'])"
   ]
  },
  {
   "cell_type": "code",
   "execution_count": 184,
   "id": "ed21f7ad",
   "metadata": {},
   "outputs": [],
   "source": [
    "# Export pdf reports\n",
    "\n",
    "for index, row in strata_final.iterrows():\n",
    "    # Generate the file name using the strata_id\n",
    "    file_name = f\"strata_{row['strata_id']}.pdf\"\n",
    "    \n",
    "    # Define the file path - modify the base_path as needed to fit your directory structure\n",
    "    base_path = r\"C:\\Users\\Bajo\\OneDrive\\Desktop\\GMU GRA Project\\PDF Reports\"\n",
    "    file_path = f\"{base_path}\\\\{file_name}\"\n",
    "    \n",
    "    # Write the 'report' content to an HTML file\n",
    "    pdfkit.from_string(row['report'], file_path)\n",
    "        file.write(row['report'])"
   ]
  },
  {
   "cell_type": "code",
   "execution_count": null,
   "id": "d591629b",
   "metadata": {},
   "outputs": [],
   "source": []
  }
 ],
 "metadata": {
  "kernelspec": {
   "display_name": "Python 3 (ipykernel)",
   "language": "python",
   "name": "python3"
  },
  "language_info": {
   "codemirror_mode": {
    "name": "ipython",
    "version": 3
   },
   "file_extension": ".py",
   "mimetype": "text/x-python",
   "name": "python",
   "nbconvert_exporter": "python",
   "pygments_lexer": "ipython3",
   "version": "3.11.5"
  }
 },
 "nbformat": 4,
 "nbformat_minor": 5
}
